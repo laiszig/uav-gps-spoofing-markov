{
 "cells": [
  {
   "metadata": {},
   "cell_type": "markdown",
   "source": [
    "## PERFORMANCE ANALYSIS OF UAV GPS SYSTEMS UNDER SPOOFING ATTACK USING DISCRETE MARKOV CHAIN\n",
    "This analysis was conducted as part of the Systems Performance Analysis course for a Master's degree. The final research paper generated from this notebook is also included in the repository for further details.\n",
    "### 1. Objective\n",
    "This notebook performs a comprehensive performance and security analysis of a GPS system under spoofing conditions. Using a public dataset designed for spoofing detection research, we employ a Discrete-Time Markov Chain (DTMC) to model the sequence of transitions between a \"Safe\" operational state and three distinct \"Attack\" states. The goal is to quantitatively assess the system's resilience and vulnerabilities based on the observed event patterns.\n",
    "\n",
    "### 2. Methodology Overview\n",
    "The analysis treats the cleaned dataset as a sequence of discrete steps, focusing on the probability of moving from one state to another rather than the real-time duration. The core of this notebook involves:\n",
    "1. Calculating the Transition Probability Matrix (P) to describe the system's step-by-step dynamics.\n",
    "2. Solving for the Steady-State Probabilities (π) to understand the long-run behavior.\n",
    "3. Deriving key performance metrics such as System Utilization (U), Average Attack Severity (N), and Mean Recurrence Time (W).\n",
    "\n",
    "### 3. Notebook Workflow\n",
    "The notebook is structured to follow a clear data analysis:\n",
    "1. Initial Loading & Sanitization: The raw dataset is loaded, and data types are corrected.\n",
    "2. Data Cleaning & Filtering: A multi-step process is applied to resolve duplicate timestamps and distill the data into a single, unambiguous sequence of events.\n",
    "3. DTMC Parameter Calculation: The core analysis cell calculates the P-matrix and the steady-state probabilities.\n",
    "3. Visualization: The final cells generate a series of professional visualizations to present the results, including a state transition diagram, a styled P-matrix table, and a bar chart of the steady-state probabilities.\n",
    "\n",
    "##### Resources\n",
    "Aissou, Ghilas (2022). A DATASET for GPS Spoofing Detection on Unmanned Aerial System, Mendeley Data, V3, doi: 10.17632/z7dj3yyzt8.3"
   ],
   "id": "f74929657ec0d0e0"
  },
  {
   "metadata": {},
   "cell_type": "markdown",
   "source": "### Initial Data Loading and Type Conversion",
   "id": "f1b719894044eaab"
  },
  {
   "cell_type": "code",
   "id": "initial_id",
   "metadata": {
    "collapsed": true,
    "ExecuteTime": {
     "end_time": "2025-06-08T17:22:46.491444Z",
     "start_time": "2025-06-08T17:22:46.487736Z"
    }
   },
   "source": [
    "import numpy as np\n",
    "import pandas as pd\n",
    "import networkx as nx\n",
    "import matplotlib.pyplot as plt"
   ],
   "outputs": [],
   "execution_count": 91
  },
  {
   "metadata": {},
   "cell_type": "markdown",
   "source": [
    "#### Data Loading\n",
    "The delimiter=\";\" argument is specified, as the columns in the source file are separated by semicolons rather than commas.\n",
    "\n",
    "#### Data Type Sanitization\n",
    "1. Iterate through every column to identify any that were imported as text (object type).\n",
    "2. Standardize the number format by replacing all comma decimals (,) with periods (.).\n",
    "3. Convert the entire column to a numeric data type."
   ],
   "id": "7652a6bc2a2988"
  },
  {
   "metadata": {
    "ExecuteTime": {
     "end_time": "2025-06-08T17:22:49.045893Z",
     "start_time": "2025-06-08T17:22:46.512240Z"
    }
   },
   "cell_type": "code",
   "source": [
    "# read dataset and adjust delimiters for reading\n",
    "df = pd.read_csv(\"GPS_Data_Simplified_2D_Feature_Map.csv\", delimiter=\";\")\n",
    "\n",
    "for col in df.columns:\n",
    "    if df[col].dtype == 'object':\n",
    "        df[col] = pd.to_numeric(df[col].str.replace(\",\", \".\", regex=False), errors=\"coerce\")\n",
    "print(df.shape)\n",
    "df.head(10)"
   ],
   "id": "a442886cd16bc3cd",
   "outputs": [
    {
     "name": "stdout",
     "output_type": "stream",
     "text": [
      "(510530, 14)\n"
     ]
    },
    {
     "data": {
      "text/plain": [
       "   PRN           DO           PD         RX          TOW           CP  \\\n",
       "0    6  1160.671408 -238359.5433  491568.00  491568.0008 -24660.26329   \n",
       "1    6  1157.827808 -238363.9212  491568.02  491568.0208 -24683.46852   \n",
       "2    6  1161.135932 -238368.6386  491568.04  491568.0408 -24706.68736   \n",
       "3    6  1161.156617 -238373.3918  491568.06  491568.0608 -24729.92004   \n",
       "4    6  1160.690893 -238378.1271  491568.08  491568.0808 -24753.15400   \n",
       "5    6  1160.807697 -238382.7373  491568.10  491568.1008 -24776.37474   \n",
       "6    6  1163.400529 -238386.9722  491568.12  491568.1208 -24799.60779   \n",
       "7    6  1159.350641 -238391.2251  491568.14  491568.1408 -24822.83854   \n",
       "8    6  1161.657926 -238395.2635  491568.16  491568.1608 -24846.06411   \n",
       "9    6  1161.995499 -238399.5520  491568.18  491568.1808 -24869.29044   \n",
       "\n",
       "          EC         LC         PC        PIP          PQP        TCD  \\\n",
       "0  163521.78  170008.81  179294.97  178420.33 -17688.17800  1158.4806   \n",
       "1  158277.05  160253.09  182106.11  182106.05    158.33333  1160.7948   \n",
       "2  184442.36  193125.89  208228.02 -205198.30  35391.59000  1157.6909   \n",
       "3  159812.45  169960.55  187550.72  187543.00  -1701.94400  1161.1343   \n",
       "4  183557.66  191912.58  208403.50  208330.05  -5532.89990  1161.1759   \n",
       "5  178968.47  184958.66  198938.81  198488.98 -13370.64100  1160.6908   \n",
       "6  168080.86  173257.44  185404.97 -184959.58  12843.65700  1160.6932   \n",
       "7  153961.95  162982.91  169926.69  169467.23  12487.34200  1163.5721   \n",
       "8  178182.84  177790.19  194533.20 -192402.30  28714.55300  1159.2557   \n",
       "9  160029.16  160199.95  180339.83 -180306.16   3484.41430  1161.6427   \n",
       "\n",
       "         CN0  Output  \n",
       "0  49.412529       0  \n",
       "1  49.452686       0  \n",
       "2  49.480145       0  \n",
       "3  49.433769       0  \n",
       "4  49.391670       0  \n",
       "5  49.290367       0  \n",
       "6  49.303074       0  \n",
       "7  49.371311       0  \n",
       "8  49.421207       0  \n",
       "9  49.396267       0  "
      ],
      "text/html": [
       "<div>\n",
       "<style scoped>\n",
       "    .dataframe tbody tr th:only-of-type {\n",
       "        vertical-align: middle;\n",
       "    }\n",
       "\n",
       "    .dataframe tbody tr th {\n",
       "        vertical-align: top;\n",
       "    }\n",
       "\n",
       "    .dataframe thead th {\n",
       "        text-align: right;\n",
       "    }\n",
       "</style>\n",
       "<table border=\"1\" class=\"dataframe\">\n",
       "  <thead>\n",
       "    <tr style=\"text-align: right;\">\n",
       "      <th></th>\n",
       "      <th>PRN</th>\n",
       "      <th>DO</th>\n",
       "      <th>PD</th>\n",
       "      <th>RX</th>\n",
       "      <th>TOW</th>\n",
       "      <th>CP</th>\n",
       "      <th>EC</th>\n",
       "      <th>LC</th>\n",
       "      <th>PC</th>\n",
       "      <th>PIP</th>\n",
       "      <th>PQP</th>\n",
       "      <th>TCD</th>\n",
       "      <th>CN0</th>\n",
       "      <th>Output</th>\n",
       "    </tr>\n",
       "  </thead>\n",
       "  <tbody>\n",
       "    <tr>\n",
       "      <th>0</th>\n",
       "      <td>6</td>\n",
       "      <td>1160.671408</td>\n",
       "      <td>-238359.5433</td>\n",
       "      <td>491568.00</td>\n",
       "      <td>491568.0008</td>\n",
       "      <td>-24660.26329</td>\n",
       "      <td>163521.78</td>\n",
       "      <td>170008.81</td>\n",
       "      <td>179294.97</td>\n",
       "      <td>178420.33</td>\n",
       "      <td>-17688.17800</td>\n",
       "      <td>1158.4806</td>\n",
       "      <td>49.412529</td>\n",
       "      <td>0</td>\n",
       "    </tr>\n",
       "    <tr>\n",
       "      <th>1</th>\n",
       "      <td>6</td>\n",
       "      <td>1157.827808</td>\n",
       "      <td>-238363.9212</td>\n",
       "      <td>491568.02</td>\n",
       "      <td>491568.0208</td>\n",
       "      <td>-24683.46852</td>\n",
       "      <td>158277.05</td>\n",
       "      <td>160253.09</td>\n",
       "      <td>182106.11</td>\n",
       "      <td>182106.05</td>\n",
       "      <td>158.33333</td>\n",
       "      <td>1160.7948</td>\n",
       "      <td>49.452686</td>\n",
       "      <td>0</td>\n",
       "    </tr>\n",
       "    <tr>\n",
       "      <th>2</th>\n",
       "      <td>6</td>\n",
       "      <td>1161.135932</td>\n",
       "      <td>-238368.6386</td>\n",
       "      <td>491568.04</td>\n",
       "      <td>491568.0408</td>\n",
       "      <td>-24706.68736</td>\n",
       "      <td>184442.36</td>\n",
       "      <td>193125.89</td>\n",
       "      <td>208228.02</td>\n",
       "      <td>-205198.30</td>\n",
       "      <td>35391.59000</td>\n",
       "      <td>1157.6909</td>\n",
       "      <td>49.480145</td>\n",
       "      <td>0</td>\n",
       "    </tr>\n",
       "    <tr>\n",
       "      <th>3</th>\n",
       "      <td>6</td>\n",
       "      <td>1161.156617</td>\n",
       "      <td>-238373.3918</td>\n",
       "      <td>491568.06</td>\n",
       "      <td>491568.0608</td>\n",
       "      <td>-24729.92004</td>\n",
       "      <td>159812.45</td>\n",
       "      <td>169960.55</td>\n",
       "      <td>187550.72</td>\n",
       "      <td>187543.00</td>\n",
       "      <td>-1701.94400</td>\n",
       "      <td>1161.1343</td>\n",
       "      <td>49.433769</td>\n",
       "      <td>0</td>\n",
       "    </tr>\n",
       "    <tr>\n",
       "      <th>4</th>\n",
       "      <td>6</td>\n",
       "      <td>1160.690893</td>\n",
       "      <td>-238378.1271</td>\n",
       "      <td>491568.08</td>\n",
       "      <td>491568.0808</td>\n",
       "      <td>-24753.15400</td>\n",
       "      <td>183557.66</td>\n",
       "      <td>191912.58</td>\n",
       "      <td>208403.50</td>\n",
       "      <td>208330.05</td>\n",
       "      <td>-5532.89990</td>\n",
       "      <td>1161.1759</td>\n",
       "      <td>49.391670</td>\n",
       "      <td>0</td>\n",
       "    </tr>\n",
       "    <tr>\n",
       "      <th>5</th>\n",
       "      <td>6</td>\n",
       "      <td>1160.807697</td>\n",
       "      <td>-238382.7373</td>\n",
       "      <td>491568.10</td>\n",
       "      <td>491568.1008</td>\n",
       "      <td>-24776.37474</td>\n",
       "      <td>178968.47</td>\n",
       "      <td>184958.66</td>\n",
       "      <td>198938.81</td>\n",
       "      <td>198488.98</td>\n",
       "      <td>-13370.64100</td>\n",
       "      <td>1160.6908</td>\n",
       "      <td>49.290367</td>\n",
       "      <td>0</td>\n",
       "    </tr>\n",
       "    <tr>\n",
       "      <th>6</th>\n",
       "      <td>6</td>\n",
       "      <td>1163.400529</td>\n",
       "      <td>-238386.9722</td>\n",
       "      <td>491568.12</td>\n",
       "      <td>491568.1208</td>\n",
       "      <td>-24799.60779</td>\n",
       "      <td>168080.86</td>\n",
       "      <td>173257.44</td>\n",
       "      <td>185404.97</td>\n",
       "      <td>-184959.58</td>\n",
       "      <td>12843.65700</td>\n",
       "      <td>1160.6932</td>\n",
       "      <td>49.303074</td>\n",
       "      <td>0</td>\n",
       "    </tr>\n",
       "    <tr>\n",
       "      <th>7</th>\n",
       "      <td>6</td>\n",
       "      <td>1159.350641</td>\n",
       "      <td>-238391.2251</td>\n",
       "      <td>491568.14</td>\n",
       "      <td>491568.1408</td>\n",
       "      <td>-24822.83854</td>\n",
       "      <td>153961.95</td>\n",
       "      <td>162982.91</td>\n",
       "      <td>169926.69</td>\n",
       "      <td>169467.23</td>\n",
       "      <td>12487.34200</td>\n",
       "      <td>1163.5721</td>\n",
       "      <td>49.371311</td>\n",
       "      <td>0</td>\n",
       "    </tr>\n",
       "    <tr>\n",
       "      <th>8</th>\n",
       "      <td>6</td>\n",
       "      <td>1161.657926</td>\n",
       "      <td>-238395.2635</td>\n",
       "      <td>491568.16</td>\n",
       "      <td>491568.1608</td>\n",
       "      <td>-24846.06411</td>\n",
       "      <td>178182.84</td>\n",
       "      <td>177790.19</td>\n",
       "      <td>194533.20</td>\n",
       "      <td>-192402.30</td>\n",
       "      <td>28714.55300</td>\n",
       "      <td>1159.2557</td>\n",
       "      <td>49.421207</td>\n",
       "      <td>0</td>\n",
       "    </tr>\n",
       "    <tr>\n",
       "      <th>9</th>\n",
       "      <td>6</td>\n",
       "      <td>1161.995499</td>\n",
       "      <td>-238399.5520</td>\n",
       "      <td>491568.18</td>\n",
       "      <td>491568.1808</td>\n",
       "      <td>-24869.29044</td>\n",
       "      <td>160029.16</td>\n",
       "      <td>160199.95</td>\n",
       "      <td>180339.83</td>\n",
       "      <td>-180306.16</td>\n",
       "      <td>3484.41430</td>\n",
       "      <td>1161.6427</td>\n",
       "      <td>49.396267</td>\n",
       "      <td>0</td>\n",
       "    </tr>\n",
       "  </tbody>\n",
       "</table>\n",
       "</div>"
      ]
     },
     "execution_count": 92,
     "metadata": {},
     "output_type": "execute_result"
    }
   ],
   "execution_count": 92
  },
  {
   "metadata": {},
   "cell_type": "markdown",
   "source": "#### Add labels to identify the three types of attack",
   "id": "db9122cd7b859ac4"
  },
  {
   "metadata": {
    "ExecuteTime": {
     "end_time": "2025-06-08T17:22:49.136955Z",
     "start_time": "2025-06-08T17:22:49.127927Z"
    }
   },
   "cell_type": "code",
   "source": [
    "df['State'] = df['Output'].map({\n",
    "    0: 'Safe',\n",
    "    1: 'SimplisticAttack',\n",
    "    2: 'IntermediateAttack',\n",
    "    3: 'SophisticatedAttack'\n",
    "})"
   ],
   "id": "d74ccec0dc96480f",
   "outputs": [],
   "execution_count": 93
  },
  {
   "metadata": {},
   "cell_type": "markdown",
   "source": [
    "#### Chronological Sorting of the Dataset\n",
    "The DataFrame is sorted using a two-level key to achieve a highly granular temporal order:\n",
    "1. Primary Key (TOW): The data is first sorted by the \"Time of the Week\" column.\n",
    "2. Secondary Key (RX): For any entries that share the exact same TOW, the \"Receiver Time\" (RX) is used as a tie-breaker to sort them.\n",
    "After sorting, the DataFrame's index is reset using `.reset_index(drop=True)` to create a new, clean, and sequential index starting from 0."
   ],
   "id": "b906c30f605420bc"
  },
  {
   "metadata": {
    "ExecuteTime": {
     "end_time": "2025-06-08T17:22:49.274313Z",
     "start_time": "2025-06-08T17:22:49.185266Z"
    }
   },
   "cell_type": "code",
   "source": [
    "df = df.sort_values(by=['TOW', 'RX'], ascending=True).reset_index(drop=True)\n",
    "print(df.head(10))"
   ],
   "id": "d301b8d1641ac367",
   "outputs": [
    {
     "name": "stdout",
     "output_type": "stream",
     "text": [
      "   PRN           DO           PD         RX         TOW           CP  \\\n",
      "0   26 -1407.495077 -2397690.634  173640.00  173640.008  37759.75100   \n",
      "1   26 -1406.742979 -2397690.634  173640.00  173640.008  37759.75100   \n",
      "2   26 -1405.308935 -2397685.166  173640.02  173640.028  37787.93074   \n",
      "3   26 -1406.774068 -2397685.166  173640.02  173640.028  37787.93074   \n",
      "4   26 -1406.987716 -2397679.895  173640.04  173640.048  37816.12306   \n",
      "5   26 -1408.696630 -2397679.895  173640.04  173640.048  37816.12306   \n",
      "6   26 -1405.867855 -2397674.499  173640.06  173640.068  37844.30873   \n",
      "7   26 -1406.626045 -2397674.499  173640.06  173640.068  37844.30873   \n",
      "8   26 -1407.427479 -2397669.183  173640.08  173640.088  37872.48590   \n",
      "9   26 -1409.272073 -2397669.183  173640.08  173640.088  37872.48590   \n",
      "\n",
      "             EC           LC           PC           PIP            PQP  \\\n",
      "0  125018.70310  145129.7344  152941.6406  152666.25000    9173.994141   \n",
      "1  125018.70310  145129.7344  152941.6406  152666.25000    9173.994141   \n",
      "2  127338.37500  109119.5000  128598.5547  125976.14060   25837.953130   \n",
      "3  127338.37500  109119.5000  128598.5547  125976.14060   25837.953130   \n",
      "4  102388.10160  114233.6875  117302.5938  -34266.27734  112186.101600   \n",
      "5  102388.10160  114233.6875  117302.5938  -34266.27734  112186.101600   \n",
      "6  111967.28910  120308.4453  127671.6328  127428.74220   -7871.553711   \n",
      "7  111967.28910  120308.4453  127671.6328  127428.74220   -7871.553711   \n",
      "8   90149.24219   74445.2500  102561.6016  -42639.77734  -93277.710940   \n",
      "9   90149.24219   74445.2500  102561.6016  -42639.77734  -93277.710940   \n",
      "\n",
      "           TCD        CN0  Output State  \n",
      "0 -1356.912354  42.819771       0  Safe  \n",
      "1 -1356.912354  42.819771       0  Safe  \n",
      "2 -1353.802246  42.780060       0  Safe  \n",
      "3 -1353.802246  42.780060       0  Safe  \n",
      "4 -1382.644531  42.786259       0  Safe  \n",
      "5 -1382.644531  42.786259       0  Safe  \n",
      "6 -1359.229614  42.762577       0  Safe  \n",
      "7 -1359.229614  42.762577       0  Safe  \n",
      "8 -1335.998291  42.811493       0  Safe  \n",
      "9 -1335.998291  42.811493       0  Safe  \n"
     ]
    }
   ],
   "execution_count": 94
  },
  {
   "metadata": {},
   "cell_type": "markdown",
   "source": [
    "#### State Population and Utilization Analysis\n",
    "Calculates both the absolute number of samples for each state and their percentage relative to the total dataset size.\n",
    "1. Calculate the total number of samples (rows) in the DataFrame.\n",
    "2. Use `.value_counts()` method is used on the State column to count the number of occurrences for each unique state value (0, 1, 2, 3).\n",
    "3. Divide its population count by the total number of samples, and the result is converted to a percentage."
   ],
   "id": "93adb2da6aa4dfbb"
  },
  {
   "metadata": {
    "ExecuteTime": {
     "end_time": "2025-06-08T17:22:49.316310Z",
     "start_time": "2025-06-08T17:22:49.302365Z"
    }
   },
   "cell_type": "code",
   "source": [
    "# Population count - number of samples for each state\n",
    "total_samples = len(df)\n",
    "population = df['State'].value_counts()\n",
    "utilization = (population / total_samples) * 100\n",
    "\n",
    "summary_table = pd.DataFrame({\n",
    "    'Sample Count': population,\n",
    "    'Percentage (%)': utilization.round(2)\n",
    "})\n",
    "display(summary_table)"
   ],
   "id": "b12ec9586af5995d",
   "outputs": [
    {
     "data": {
      "text/plain": [
       "                     Sample Count  Percentage (%)\n",
       "State                                            \n",
       "Safe                       397825           77.92\n",
       "IntermediateAttack          44232            8.66\n",
       "SimplisticAttack            36458            7.14\n",
       "SophisticatedAttack         32015            6.27"
      ],
      "text/html": [
       "<div>\n",
       "<style scoped>\n",
       "    .dataframe tbody tr th:only-of-type {\n",
       "        vertical-align: middle;\n",
       "    }\n",
       "\n",
       "    .dataframe tbody tr th {\n",
       "        vertical-align: top;\n",
       "    }\n",
       "\n",
       "    .dataframe thead th {\n",
       "        text-align: right;\n",
       "    }\n",
       "</style>\n",
       "<table border=\"1\" class=\"dataframe\">\n",
       "  <thead>\n",
       "    <tr style=\"text-align: right;\">\n",
       "      <th></th>\n",
       "      <th>Sample Count</th>\n",
       "      <th>Percentage (%)</th>\n",
       "    </tr>\n",
       "    <tr>\n",
       "      <th>State</th>\n",
       "      <th></th>\n",
       "      <th></th>\n",
       "    </tr>\n",
       "  </thead>\n",
       "  <tbody>\n",
       "    <tr>\n",
       "      <th>Safe</th>\n",
       "      <td>397825</td>\n",
       "      <td>77.92</td>\n",
       "    </tr>\n",
       "    <tr>\n",
       "      <th>IntermediateAttack</th>\n",
       "      <td>44232</td>\n",
       "      <td>8.66</td>\n",
       "    </tr>\n",
       "    <tr>\n",
       "      <th>SimplisticAttack</th>\n",
       "      <td>36458</td>\n",
       "      <td>7.14</td>\n",
       "    </tr>\n",
       "    <tr>\n",
       "      <th>SophisticatedAttack</th>\n",
       "      <td>32015</td>\n",
       "      <td>6.27</td>\n",
       "    </tr>\n",
       "  </tbody>\n",
       "</table>\n",
       "</div>"
      ]
     },
     "metadata": {},
     "output_type": "display_data"
    }
   ],
   "execution_count": 95
  },
  {
   "metadata": {},
   "cell_type": "markdown",
   "source": [
    "#### Data Filtering and Duplicate Timestamp Resolution\n",
    "Cleaning and selection logic. Transforms the full, sorted dataset into the final, condensed version that will be used for the Markov chain analysis.\n",
    "- **Goal:** Ensure each timestamp (TOW) is unique and represents the single most relevant data point for that moment in time.\n",
    "\n",
    "##### Feature Selection and Initial Cleaning\n",
    "1. Narrow down the DataFrame to only the essential columns required for the analysis.\n",
    "2. Performs a final data integrity check by ensuring the Output column is numeric.\n",
    "3. Drop any remaining rows that might have missing values.\n",
    "\n",
    "##### Duplicate Resolution Logic\n",
    "Select the single best entry for each duplicate timestamp. A three-level sorting method is applied:\n",
    "1. Chronological Order (TOW): The data is sorted by time.\n",
    "2. Signal Quality (CN0): Within each time group, rows are sorted by their Carrier-to-Noise ratio in descending order, prioritizing signals that are stronger and more reliable.\n",
    "3. Attack Priority (Output): As a final tie-breaker for rows with the same timestamp and signal strength, rows are sorted by their Output state in descending order. This ensures that an \"attack\" state is prioritized over a \"safe\" state.\n",
    "\n",
    "After this precise sorting, the `.drop_duplicates()` command is used to keep only the first row for each unique TOW. Because of the sorting, this first row is guaranteed to be the most relevant one according to our defined hierarchy."
   ],
   "id": "73ff3c93237f5866"
  },
  {
   "metadata": {
    "ExecuteTime": {
     "end_time": "2025-06-08T17:22:49.554308Z",
     "start_time": "2025-06-08T17:22:49.350400Z"
    }
   },
   "cell_type": "code",
   "source": [
    "# Remove unnecessary columns\n",
    "columns_to_keep = ['TOW', 'RX', 'PRN', 'CN0', 'Output']\n",
    "df = df.loc[:, columns_to_keep]\n",
    "df['Output'] = pd.to_numeric(df['Output'], errors='coerce')\n",
    "df.dropna(inplace=True)\n",
    "\n",
    "# Handle Duplicate Timestamps\n",
    "df = df.sort_values(\n",
    "    by=['TOW', 'CN0', 'Output'],\n",
    "    ascending=[True, False, False]\n",
    ")\n",
    "\n",
    "# Drop duplicates\n",
    "df_cleaned = df.drop_duplicates(subset=['TOW'], keep='first')\n",
    "\n",
    "# Sort the final dataset by time and reset the index for a clean output\n",
    "df = df_cleaned.sort_values(by='TOW').reset_index(drop=True)\n",
    "\n",
    "print(f\"Final cleaned dataset has {len(df)} rows.\")"
   ],
   "id": "8bfec7c1552fabef",
   "outputs": [
    {
     "name": "stdout",
     "output_type": "stream",
     "text": [
      "Final cleaned dataset has 434613 rows.\n"
     ]
    }
   ],
   "execution_count": 96
  },
  {
   "metadata": {},
   "cell_type": "markdown",
   "source": [
    "#### Discrete-Time Markov Chain (DTMC) Analysis\n",
    "Core analytical code. Perform the complete DTMC analysis to derive all key parameters and performance metrics for the system.\n",
    "\n",
    "##### Transition Probability Matrix (P) Estimation\n",
    "1. Count the total number of times the system was observed in each state (state_counts).\n",
    "2. Iterate through the entire dataset sequentially to count every transition from a starting state `i` to an ending state `j`. Store them in the transition_counts matrix.\n",
    "3. Calculate the probabilities by dividing the number of `i → j` transitions by the total number of times the system was in state `i`."
   ],
   "id": "95f0dfc262f3c03f"
  },
  {
   "metadata": {
    "ExecuteTime": {
     "end_time": "2025-06-08T17:23:08.280488Z",
     "start_time": "2025-06-08T17:22:49.570098Z"
    }
   },
   "cell_type": "code",
   "source": [
    "# Calculate the Transition Probability Matrix (P)\n",
    "possible_states = sorted(df['Output'].unique().astype(int))\n",
    "state_counts = df['Output'].value_counts().reindex(possible_states, fill_value=0)\n",
    "transition_counts = pd.DataFrame(0, index=possible_states, columns=possible_states)\n",
    "for i in range(1, len(df)):\n",
    "    start_state = int(df.loc[i-1, 'Output'])\n",
    "    end_state = int(df.loc[i, 'Output'])\n",
    "    if start_state in possible_states and end_state in possible_states:\n",
    "        transition_counts.loc[start_state, end_state] += 1\n",
    "\n",
    "# Calculate the P-matrix by normalizing the transition counts\n",
    "p_matrix = transition_counts.div(state_counts, axis=0).fillna(0)\n",
    "\n",
    "print(\"--- Transition Probability Matrix (P) ---\")\n",
    "with pd.option_context('display.float_format', '{:,.4f}'.format):\n",
    "  print(p_matrix)"
   ],
   "id": "8bc2e1907930aad0",
   "outputs": [
    {
     "name": "stdout",
     "output_type": "stream",
     "text": [
      "--- Transition Probability Matrix (P) ---\n",
      "       0      1      2      3\n",
      "0 0.8310 0.0568 0.0779 0.0343\n",
      "1 0.7571 0.0775 0.1655 0.0000\n",
      "2 0.6313 0.1574 0.2113 0.0000\n",
      "3 0.3929 0.0000 0.0000 0.6071\n"
     ]
    }
   ],
   "execution_count": 97
  },
  {
   "metadata": {},
   "cell_type": "markdown",
   "source": [
    "#### Steady-State Probability (π) Calculation\n",
    "Calculate the long-run behavior of the system.\n",
    "1. Finds the steady-state probability vector π\n",
    "2. Solve the eigenvector equation `πP = π` using standard linear algebra methods available in the NumPy library.\n",
    "\n",
    "#### Performance Metrics Calculation and Output\n",
    "Use the calculated π vector to derive the key performance indicators for the system.\n",
    "1. Utilization (U): The probability of the system being in any attack state.\n",
    "2. Average Attack Severity (N): A weighted average of the system's state, indicating its overall risk level.\n",
    "3. Mean Recurrence Time (W): The average number of steps it takes to return to a state after leaving it."
   ],
   "id": "68d0fb574c7ceaaa"
  },
  {
   "metadata": {
    "ExecuteTime": {
     "end_time": "2025-06-08T17:23:08.291438Z",
     "start_time": "2025-06-08T17:23:08.287241Z"
    }
   },
   "cell_type": "code",
   "source": [
    "# --- Calculate Steady-State Probabilities (π) ---\n",
    "eigen_matrix = p_matrix.transpose() - np.identity(len(possible_states))\n",
    "A = np.vstack((eigen_matrix[:-1], np.ones(len(possible_states))))\n",
    "b = np.zeros(len(possible_states))\n",
    "b[-1] = 1\n",
    "pi = np.linalg.solve(A, b)\n",
    "\n",
    "# --- Display DTMC Performance Metrics ---\n",
    "print(\"--- DTMC Performance Analysis ---\")\n",
    "print(\"\\nSteady-State Probabilities (π):\")\n",
    "for i, p in enumerate(pi):\n",
    "    print(f\"  π({i}): {p:.4f}  (System is in State {i} for {p:.2%} of the steps)\")\n",
    "\n",
    "utilization = 1 - pi[0]\n",
    "print(f\"\\nUtilization (U): {utilization:.4f}\")\n",
    "\n",
    "avg_severity = np.sum(pi * np.array(possible_states))\n",
    "print(f\"\\nAverage Attack Severity (N): {avg_severity:.4f}\")\n",
    "\n",
    "print(\"\\nMean Recurrence Time (W) per State:\")\n",
    "for i in possible_states:\n",
    "    recurrence_time = 1 / pi[i] if pi[i] > 0 else float('inf')\n",
    "    print(f\"  State {i}: {recurrence_time:.2f} steps (on average, to return to this state)\")"
   ],
   "id": "7669421aeca93f8c",
   "outputs": [
    {
     "name": "stdout",
     "output_type": "stream",
     "text": [
      "--- DTMC Performance Analysis ---\n",
      "\n",
      "Steady-State Probabilities (π):\n",
      "  π(0): 0.7785  (System is in State 0 for 77.85% of the steps)\n",
      "  π(1): 0.0633  (System is in State 1 for 6.33% of the steps)\n",
      "  π(2): 0.0902  (System is in State 2 for 9.02% of the steps)\n",
      "  π(3): 0.0680  (System is in State 3 for 6.80% of the steps)\n",
      "\n",
      "Utilization (U): 0.2215\n",
      "\n",
      "Average Attack Severity (N): 0.4477\n",
      "\n",
      "Mean Recurrence Time (W) per State:\n",
      "  State 0: 1.28 steps (on average, to return to this state)\n",
      "  State 1: 15.79 steps (on average, to return to this state)\n",
      "  State 2: 11.09 steps (on average, to return to this state)\n",
      "  State 3: 14.70 steps (on average, to return to this state)\n"
     ]
    }
   ],
   "execution_count": 98
  },
  {
   "metadata": {},
   "cell_type": "markdown",
   "source": [
    "#### State Transition Diagram Visualization\n",
    "Create a visual representation of the system's dynamics."
   ],
   "id": "69d4bec2710562b1"
  },
  {
   "metadata": {
    "ExecuteTime": {
     "end_time": "2025-06-08T17:23:08.386138Z",
     "start_time": "2025-06-08T17:23:08.317720Z"
    }
   },
   "cell_type": "code",
   "source": [
    "G = nx.DiGraph()\n",
    "for start_state, row in p_matrix.iterrows():\n",
    "    for end_state, prob in row.items():\n",
    "        if prob > 0.001:\n",
    "            G.add_edge(start_state, end_state, weight=prob)\n",
    "\n",
    "pos = nx.circular_layout(G)\n",
    "plt.figure(figsize=(8, 8))\n",
    "nx.draw_networkx_nodes(G, pos, node_size=3000, node_color='lightblue')\n",
    "nx.draw_networkx_labels(G, pos, font_size=12, font_weight='bold')\n",
    "nx.draw_networkx_edges(G, pos, edgelist=G.edges(), edge_color='gray',\n",
    "                       arrows=True, arrowstyle='->', arrowsize=20,\n",
    "                       connectionstyle='arc3,rad=0.1')\n",
    "\n",
    "edge_labels = nx.get_edge_attributes(G, 'weight')\n",
    "formatted_edge_labels = {k: f\"{v:.3f}\" for k, v in edge_labels.items()}\n",
    "nx.draw_networkx_edge_labels(G, pos, edge_labels=formatted_edge_labels,\n",
    "                             font_color='darkgreen', font_size=10)\n",
    "\n",
    "plt.title(\"DTMC State Transition Diagram\", size=12)\n",
    "plt.show()"
   ],
   "id": "ca9c8ba13cb6cf27",
   "outputs": [
    {
     "data": {
      "text/plain": [
       "<Figure size 800x800 with 1 Axes>"
      ],
      "image/png": "[encoded data removed]"
     },
     "metadata": {},
     "output_type": "display_data"
    }
   ],
   "execution_count": 99
  },
  {
   "metadata": {},
   "cell_type": "markdown",
   "source": [
    "#### Bar Chart Visualization of Steady-State Probabilities\n",
    "Compare long-run probability of the system being in each of its operational states."
   ],
   "id": "da1cd56a09d55b6a"
  },
  {
   "metadata": {
    "ExecuteTime": {
     "end_time": "2025-06-08T17:23:08.527433Z",
     "start_time": "2025-06-08T17:23:08.407483Z"
    }
   },
   "cell_type": "code",
   "source": [
    "plt.style.use('seaborn-v0_8-whitegrid')\n",
    "fig, ax = plt.subplots(figsize=(10, 7))\n",
    "bars = ax.bar(state_labels, pi_values, color=colors)\n",
    "\n",
    "ax.set_ylabel('Steady-State Probability (π)', fontsize=12)\n",
    "ax.set_title('Long-Run Probability of System States', fontsize=16, pad=20)\n",
    "ax.set_ylim(0, 1.0)\n",
    "\n",
    "for bar in bars:\n",
    "    yval = bar.get_height()\n",
    "    ax.text(bar.get_x() + bar.get_width()/2.0, yval + 0.02, f'{yval*100:.2f}%',\n",
    "            ha='center', va='bottom', fontsize=11, weight='bold')\n",
    "\n",
    "plt.tight_layout()\n",
    "plt.show()\n",
    "# plt.savefig('gps_steadystate_chart.png', dpi=300)"
   ],
   "id": "8ef579feb3cbbf3d",
   "outputs": [
    {
     "data": {
      "text/plain": [
       "<Figure size 1000x700 with 1 Axes>"
      ],
      "image/png": "[encoded data removed]"
     },
     "metadata": {},
     "output_type": "display_data"
    }
   ],
   "execution_count": 100
  },
  {
   "metadata": {},
   "cell_type": "markdown",
   "source": [
    "#### Styled Table Visualization of the P-Matrix\n",
    "Visualization with color-coding (a heatmap) to make the transition probabilities intuitive and easy to interpret at a glance."
   ],
   "id": "90e202dbe6f51dfb"
  },
  {
   "metadata": {
    "ExecuteTime": {
     "end_time": "2025-06-08T17:23:08.600332Z",
     "start_time": "2025-06-08T17:23:08.555566Z"
    }
   },
   "cell_type": "code",
   "source": [
    "row_labels = [f'From State {i}' for i in p_matrix.index]\n",
    "col_labels = [f'To State {i}' for i in p_matrix.columns]\n",
    "\n",
    "fig, ax = plt.subplots(figsize=(10, 4))\n",
    "ax.axis('tight')\n",
    "ax.axis('off')\n",
    "cell_text = [[f'{prob:.4f}' for prob in row] for row in p_matrix.values]\n",
    "\n",
    "the_table = ax.table(cellText=cell_text,\n",
    "                     rowLabels=row_labels,\n",
    "                     colLabels=col_labels,\n",
    "                     cellLoc='center',\n",
    "                     loc='center')\n",
    "\n",
    "the_table.scale(1, 2)\n",
    "the_table.auto_set_font_size(False)\n",
    "the_table.set_fontsize(11)\n",
    "cmap = plt.get_cmap('YlGnBu')\n",
    "cells = the_table.get_celld()\n",
    "\n",
    "for i in range(len(p_matrix.columns)):\n",
    "    for j in range(len(p_matrix.index)):\n",
    "        cell = cells[(j + 1, i)]\n",
    "        prob = p_matrix.iloc[j, i]\n",
    "        cell.set_facecolor(cmap(prob))\n",
    "        if prob > 0.5:\n",
    "            cell.get_text().set_color('white')\n",
    "\n",
    "plt.title('Transition Probability Matrix (P)', fontsize=16, weight='bold', pad=20)\n",
    "plt.show()\n",
    "# plt.savefig('gps_pmatrix_table.png', dpi=300, bbox_inches='tight')"
   ],
   "id": "123b0d1d8a32f698",
   "outputs": [
    {
     "data": {
      "text/plain": [
       "<Figure size 1000x400 with 1 Axes>"
      ],
      "image/png": "[encoded data removed]"
     },
     "metadata": {},
     "output_type": "display_data"
    }
   ],
   "execution_count": 101
  }
 ],
 "metadata": {
  "kernelspec": {
   "display_name": "Python 3",
   "language": "python",
   "name": "python3"
  },
  "language_info": {
   "codemirror_mode": {
    "name": "ipython",
    "version": 2
   },
   "file_extension": ".py",
   "mimetype": "text/x-python",
   "name": "python",
   "nbconvert_exporter": "python",
   "pygments_lexer": "ipython2",
   "version": "2.7.6"
  }
 },
 "nbformat": 4,
 "nbformat_minor": 5
}
